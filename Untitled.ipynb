{
 "cells": [
  {
   "cell_type": "code",
   "execution_count": 1,
   "metadata": {},
   "outputs": [],
   "source": [
    "import numpy as np\n",
    "import pandas as pd\n",
    "import matplotlib.pyplot as pt\n",
    "import seaborn as sns\n",
    "import sklearn"
   ]
  },
  {
   "cell_type": "code",
   "execution_count": 2,
   "metadata": {},
   "outputs": [
    {
     "name": "stdout",
     "output_type": "stream",
     "text": [
      "   Gender Symptoms  Alcohol HBsAg HBeAg HBcAg HCVAb  Cirrhosis Endemic  \\\n",
      "0       1        0        1     0     0     0     0          1       0   \n",
      "1       0        ?        0     0     0     0     1          1       ?   \n",
      "2       1        0        1     1     0     1     0          1       0   \n",
      "3       1        1        1     0     0     0     0          1       0   \n",
      "4       1        1        1     1     0     1     0          1       0   \n",
      "\n",
      "  Smoking  ...  ALP   TP Creatinine Nodule Major_Dim Dir_Bil Iron SAT  \\\n",
      "0       1  ...  150  7.1        0.7      1       3.5     0.5    ?   ?   \n",
      "1       ?  ...    ?    ?          ?      1       1.8       ?    ?   ?   \n",
      "2       1  ...  109    7        2.1      5        13     0.1   28   6   \n",
      "3       1  ...  174  8.1       1.11      2      15.7     0.2    ?   ?   \n",
      "4       1  ...  109  6.9        1.8      1         9       ?   59  15   \n",
      "\n",
      "  Ferritin Class  \n",
      "0        ?     1  \n",
      "1        ?     1  \n",
      "2       16     1  \n",
      "3        ?     0  \n",
      "4       22     1  \n",
      "\n",
      "[5 rows x 50 columns]\n"
     ]
    }
   ],
   "source": [
    "df=pd.read_csv('hcc.csv')\n",
    "print(df.head())"
   ]
  },
  {
   "cell_type": "code",
   "execution_count": 3,
   "metadata": {},
   "outputs": [
    {
     "name": "stdout",
     "output_type": "stream",
     "text": [
      "Index(['Gender', 'Symptoms', 'Alcohol', 'HBsAg', 'HBeAg', 'HBcAg', 'HCVAb',\n",
      "       'Cirrhosis', 'Endemic', 'Smoking', 'Diabetis', 'Obesity', 'Hemochro',\n",
      "       'AHT', 'CRI', 'HIV', 'NASH', 'Varices', 'Spleno', 'PHT', 'PVT',\n",
      "       'Metastasis', 'Hallmark', 'Age', 'Grams_day', 'Packs_year', 'PS',\n",
      "       'Encephalopathy', 'Ascites', 'INR', 'AFP', 'Hemoglobin', 'MCV',\n",
      "       'Leucocytes', 'Platelets', 'Albumin', 'Total_Bil', 'ALT', 'AST', 'GGT',\n",
      "       'ALP', 'TP', 'Creatinine', 'Nodule', 'Major_Dim', 'Dir_Bil', 'Iron',\n",
      "       'SAT', 'Ferritin', 'Class'],\n",
      "      dtype='object')\n"
     ]
    }
   ],
   "source": [
    "print(df.columns)"
   ]
  },
  {
   "cell_type": "code",
   "execution_count": 4,
   "metadata": {},
   "outputs": [
    {
     "name": "stdout",
     "output_type": "stream",
     "text": [
      "<class 'pandas.core.frame.DataFrame'>\n",
      "RangeIndex: 165 entries, 0 to 164\n",
      "Data columns (total 50 columns):\n",
      "Gender            165 non-null int64\n",
      "Symptoms          165 non-null object\n",
      "Alcohol           165 non-null int64\n",
      "HBsAg             165 non-null object\n",
      "HBeAg             165 non-null object\n",
      "HBcAg             165 non-null object\n",
      "HCVAb             165 non-null object\n",
      "Cirrhosis         165 non-null int64\n",
      "Endemic           165 non-null object\n",
      "Smoking           165 non-null object\n",
      "Diabetis          165 non-null object\n",
      "Obesity           165 non-null object\n",
      "Hemochro          165 non-null object\n",
      "AHT               165 non-null object\n",
      "CRI               165 non-null object\n",
      "HIV               165 non-null object\n",
      "NASH              165 non-null object\n",
      "Varices           165 non-null object\n",
      "Spleno            165 non-null object\n",
      "PHT               165 non-null object\n",
      "PVT               165 non-null object\n",
      "Metastasis        165 non-null object\n",
      "Hallmark          165 non-null object\n",
      "Age               165 non-null int64\n",
      "Grams_day         165 non-null object\n",
      "Packs_year        165 non-null object\n",
      "PS                165 non-null int64\n",
      "Encephalopathy    165 non-null object\n",
      "Ascites           165 non-null object\n",
      "INR               165 non-null object\n",
      "AFP               165 non-null object\n",
      "Hemoglobin        165 non-null object\n",
      "MCV               165 non-null object\n",
      "Leucocytes        165 non-null object\n",
      "Platelets         165 non-null object\n",
      "Albumin           165 non-null object\n",
      "Total_Bil         165 non-null object\n",
      "ALT               165 non-null object\n",
      "AST               165 non-null object\n",
      "GGT               165 non-null object\n",
      "ALP               165 non-null object\n",
      "TP                165 non-null object\n",
      "Creatinine        165 non-null object\n",
      "Nodule            165 non-null object\n",
      "Major_Dim         165 non-null object\n",
      "Dir_Bil           165 non-null object\n",
      "Iron              165 non-null object\n",
      "SAT               165 non-null object\n",
      "Ferritin          165 non-null object\n",
      "Class             165 non-null int64\n",
      "dtypes: int64(6), object(44)\n",
      "memory usage: 64.5+ KB\n",
      "None\n"
     ]
    }
   ],
   "source": [
    "print(df.info()) "
   ]
  },
  {
   "cell_type": "code",
   "execution_count": 5,
   "metadata": {},
   "outputs": [
    {
     "name": "stdout",
     "output_type": "stream",
     "text": [
      "           Gender     Alcohol   Cirrhosis         Age          PS       Class\n",
      "count  165.000000  165.000000  165.000000  165.000000  165.000000  165.000000\n",
      "mean     0.806061    0.739394    0.903030   64.690909    1.018182    0.618182\n",
      "std      0.396586    0.440302    0.296817   13.319534    1.181528    0.487311\n",
      "min      0.000000    0.000000    0.000000   20.000000    0.000000    0.000000\n",
      "25%      1.000000    0.000000    1.000000   57.000000    0.000000    0.000000\n",
      "50%      1.000000    1.000000    1.000000   66.000000    1.000000    1.000000\n",
      "75%      1.000000    1.000000    1.000000   74.000000    2.000000    1.000000\n",
      "max      1.000000    1.000000    1.000000   93.000000    4.000000    1.000000\n"
     ]
    }
   ],
   "source": [
    "print(df.describe())"
   ]
  },
  {
   "cell_type": "code",
   "execution_count": 6,
   "metadata": {},
   "outputs": [
    {
     "name": "stdout",
     "output_type": "stream",
     "text": [
      "Gender             0\n",
      "Symptoms          18\n",
      "Alcohol            0\n",
      "HBsAg             17\n",
      "HBeAg             39\n",
      "HBcAg             24\n",
      "HCVAb              9\n",
      "Cirrhosis          0\n",
      "Endemic           39\n",
      "Smoking           41\n",
      "Diabetis           3\n",
      "Obesity           10\n",
      "Hemochro          23\n",
      "AHT                3\n",
      "CRI                2\n",
      "HIV               14\n",
      "NASH              22\n",
      "Varices           52\n",
      "Spleno            15\n",
      "PHT               11\n",
      "PVT                3\n",
      "Metastasis         4\n",
      "Hallmark           2\n",
      "Age                0\n",
      "Grams_day         48\n",
      "Packs_year        53\n",
      "PS                 0\n",
      "Encephalopathy     1\n",
      "Ascites            2\n",
      "INR                4\n",
      "AFP                8\n",
      "Hemoglobin         3\n",
      "MCV                3\n",
      "Leucocytes         3\n",
      "Platelets          3\n",
      "Albumin            6\n",
      "Total_Bil          5\n",
      "ALT                4\n",
      "AST                3\n",
      "GGT                3\n",
      "ALP                3\n",
      "TP                11\n",
      "Creatinine         7\n",
      "Nodule             2\n",
      "Major_Dim         20\n",
      "Dir_Bil           44\n",
      "Iron              79\n",
      "SAT               80\n",
      "Ferritin          80\n",
      "Class              0\n",
      "dtype: int64\n"
     ]
    }
   ],
   "source": [
    "df = df.apply(lambda x: x.replace('?',np.nan)) # replacing ? for Nan.\n",
    "print(df.isna().sum())"
   ]
  },
  {
   "cell_type": "code",
   "execution_count": 7,
   "metadata": {},
   "outputs": [],
   "source": [
    "df=df.drop(['SAT','Ferritin','Iron','Packs_year','Varices','Grams_day','Dir_Bil','Smoking','HBeAg','Endemic'],axis=1)"
   ]
  },
  {
   "cell_type": "code",
   "execution_count": 8,
   "metadata": {},
   "outputs": [],
   "source": [
    "df = df.apply(pd.to_numeric)    #Convert object type to int and float"
   ]
  },
  {
   "cell_type": "code",
   "execution_count": 9,
   "metadata": {},
   "outputs": [
    {
     "name": "stdout",
     "output_type": "stream",
     "text": [
      "<class 'pandas.core.frame.DataFrame'>\n",
      "RangeIndex: 165 entries, 0 to 164\n",
      "Data columns (total 40 columns):\n",
      "Gender            165 non-null int64\n",
      "Symptoms          147 non-null float64\n",
      "Alcohol           165 non-null int64\n",
      "HBsAg             148 non-null float64\n",
      "HBcAg             141 non-null float64\n",
      "HCVAb             156 non-null float64\n",
      "Cirrhosis         165 non-null int64\n",
      "Diabetis          162 non-null float64\n",
      "Obesity           155 non-null float64\n",
      "Hemochro          142 non-null float64\n",
      "AHT               162 non-null float64\n",
      "CRI               163 non-null float64\n",
      "HIV               151 non-null float64\n",
      "NASH              143 non-null float64\n",
      "Spleno            150 non-null float64\n",
      "PHT               154 non-null float64\n",
      "PVT               162 non-null float64\n",
      "Metastasis        161 non-null float64\n",
      "Hallmark          163 non-null float64\n",
      "Age               165 non-null int64\n",
      "PS                165 non-null int64\n",
      "Encephalopathy    164 non-null float64\n",
      "Ascites           163 non-null float64\n",
      "INR               161 non-null float64\n",
      "AFP               157 non-null float64\n",
      "Hemoglobin        162 non-null float64\n",
      "MCV               162 non-null float64\n",
      "Leucocytes        162 non-null float64\n",
      "Platelets         162 non-null float64\n",
      "Albumin           159 non-null float64\n",
      "Total_Bil         160 non-null float64\n",
      "ALT               161 non-null float64\n",
      "AST               162 non-null float64\n",
      "GGT               162 non-null float64\n",
      "ALP               162 non-null float64\n",
      "TP                154 non-null float64\n",
      "Creatinine        158 non-null float64\n",
      "Nodule            163 non-null float64\n",
      "Major_Dim         145 non-null float64\n",
      "Class             165 non-null int64\n",
      "dtypes: float64(34), int64(6)\n",
      "memory usage: 51.6 KB\n",
      "None\n"
     ]
    }
   ],
   "source": [
    "print(df.info()) "
   ]
  },
  {
   "cell_type": "code",
   "execution_count": 10,
   "metadata": {},
   "outputs": [],
   "source": [
    "df = df.apply(lambda x: x.fillna(x.mean()),axis=0)"
   ]
  },
  {
   "cell_type": "code",
   "execution_count": 11,
   "metadata": {},
   "outputs": [
    {
     "name": "stdout",
     "output_type": "stream",
     "text": [
      "Gender            0\n",
      "Symptoms          0\n",
      "Alcohol           0\n",
      "HBsAg             0\n",
      "HBcAg             0\n",
      "HCVAb             0\n",
      "Cirrhosis         0\n",
      "Diabetis          0\n",
      "Obesity           0\n",
      "Hemochro          0\n",
      "AHT               0\n",
      "CRI               0\n",
      "HIV               0\n",
      "NASH              0\n",
      "Spleno            0\n",
      "PHT               0\n",
      "PVT               0\n",
      "Metastasis        0\n",
      "Hallmark          0\n",
      "Age               0\n",
      "PS                0\n",
      "Encephalopathy    0\n",
      "Ascites           0\n",
      "INR               0\n",
      "AFP               0\n",
      "Hemoglobin        0\n",
      "MCV               0\n",
      "Leucocytes        0\n",
      "Platelets         0\n",
      "Albumin           0\n",
      "Total_Bil         0\n",
      "ALT               0\n",
      "AST               0\n",
      "GGT               0\n",
      "ALP               0\n",
      "TP                0\n",
      "Creatinine        0\n",
      "Nodule            0\n",
      "Major_Dim         0\n",
      "Class             0\n",
      "dtype: int64\n"
     ]
    }
   ],
   "source": [
    "print(df.isna().sum())"
   ]
  },
  {
   "cell_type": "code",
   "execution_count": 12,
   "metadata": {},
   "outputs": [
    {
     "data": {
      "text/plain": [
       "<matplotlib.axes._subplots.AxesSubplot at 0x2572a9dfc18>"
      ]
     },
     "execution_count": 12,
     "metadata": {},
     "output_type": "execute_result"
    },
    {
     "data": {
      "image/png": "[encoded data removed]",
      "text/plain": [
       "<Figure size 432x288 with 1 Axes>"
      ]
     },
     "metadata": {
      "needs_background": "light"
     },
     "output_type": "display_data"
    }
   ],
   "source": [
    "sns.countplot(x='Class',data=df)"
   ]
  },
  {
   "cell_type": "code",
   "execution_count": 13,
   "metadata": {},
   "outputs": [
    {
     "data": {
      "text/plain": [
       "<matplotlib.axes._subplots.AxesSubplot at 0x2572ad502e8>"
      ]
     },
     "execution_count": 13,
     "metadata": {},
     "output_type": "execute_result"
    },
    {
     "data": {
      "image/png": "[encoded data removed]",
      "text/plain": [
       "<Figure size 432x288 with 2 Axes>"
      ]
     },
     "metadata": {
      "needs_background": "light"
     },
     "output_type": "display_data"
    }
   ],
   "source": [
    "cor=df.corr()   # cor=np.corrcoef(data)\n",
    "#print(cor)\n",
    "sns.heatmap(cor,annot=True,cmap='jet',fmt='.1f',annot_kws={'size':55},cbar=True)"
   ]
  },
  {
   "cell_type": "code",
   "execution_count": 14,
   "metadata": {},
   "outputs": [
    {
     "name": "stdout",
     "output_type": "stream",
     "text": [
      "(165, 40)\n",
      "(115, 39)\n",
      "(50, 39)\n"
     ]
    }
   ],
   "source": [
    "####### Train_test_split\n",
    "from sklearn.model_selection import train_test_split\n",
    "x_train,x_test,y_train,y_test=train_test_split(df.drop(['Class'],axis=1),df['Class'],test_size=0.3,random_state=0)\n",
    "print(df.shape)\n",
    "print(x_train.shape)\n",
    "print(x_test.shape)"
   ]
  },
  {
   "cell_type": "code",
   "execution_count": 15,
   "metadata": {},
   "outputs": [],
   "source": [
    "####### feature scaling\n",
    "from sklearn.preprocessing import StandardScaler # MInMaxScaler\n",
    "sc=StandardScaler()\n",
    "sc.fit(x_train)\n",
    "x_train_std=sc.transform(x_train)\n",
    "x_test_std=sc.transform(x_test)"
   ]
  },
  {
   "cell_type": "code",
   "execution_count": 16,
   "metadata": {},
   "outputs": [],
   "source": [
    "##### load classifier\n",
    "from sklearn.linear_model import Perceptron\n",
    "ppn=Perceptron()\n",
    "ppn.fit(x_train,y_train)\n",
    "y_pred_train=ppn.predict(x_train)\n",
    "y_pred_test=ppn.predict(x_test)"
   ]
  },
  {
   "cell_type": "code",
   "execution_count": 17,
   "metadata": {},
   "outputs": [
    {
     "name": "stdout",
     "output_type": "stream",
     "text": [
      "0.6260869565217392\n",
      "0.64\n"
     ]
    }
   ],
   "source": [
    "### Metrics\n",
    "from sklearn.metrics import accuracy_score\n",
    "train_acc=accuracy_score(y_train,y_pred_train)\n",
    "test_Acc=accuracy_score(y_test,y_pred_test)\n",
    "print(train_acc)\n",
    "print(test_Acc)"
   ]
  },
  {
   "cell_type": "code",
   "execution_count": 18,
   "metadata": {},
   "outputs": [
    {
     "name": "stdout",
     "output_type": "stream",
     "text": [
      "0.8695652173913043\n",
      "0.64\n"
     ]
    }
   ],
   "source": [
    "ppn.fit(x_train_std,y_train)\n",
    "y_pred_train=ppn.predict(x_train_std)\n",
    "y_pred_test=ppn.predict(x_test_std)\n",
    "train_acc=accuracy_score(y_train,y_pred_train)\n",
    "test_Acc=accuracy_score(y_test,y_pred_test)\n",
    "print(train_acc)\n",
    "print(test_Acc)"
   ]
  },
  {
   "cell_type": "code",
   "execution_count": 19,
   "metadata": {},
   "outputs": [
    {
     "name": "stdout",
     "output_type": "stream",
     "text": [
      "              precision    recall  f1-score   support\n",
      "\n",
      "           0       0.58      0.52      0.55        21\n",
      "           1       0.68      0.72      0.70        29\n",
      "\n",
      "    accuracy                           0.64        50\n",
      "   macro avg       0.63      0.62      0.62        50\n",
      "weighted avg       0.64      0.64      0.64        50\n",
      "\n"
     ]
    }
   ],
   "source": [
    "from sklearn.metrics import classification_report\n",
    "cr=classification_report(y_test,y_pred_test)\n",
    "print(cr)"
   ]
  },
  {
   "cell_type": "code",
   "execution_count": 20,
   "metadata": {},
   "outputs": [
    {
     "name": "stdout",
     "output_type": "stream",
     "text": [
      "[[11 10]\n",
      " [ 8 21]]\n"
     ]
    }
   ],
   "source": [
    "from sklearn.metrics import confusion_matrix\n",
    "cm=confusion_matrix(y_test,y_pred_test)\n",
    "print(cm)"
   ]
  },
  {
   "cell_type": "code",
   "execution_count": 21,
   "metadata": {},
   "outputs": [
    {
     "data": {
      "text/plain": [
       "<sklearn.metrics._plot.confusion_matrix.ConfusionMatrixDisplay at 0x2572bc95c50>"
      ]
     },
     "execution_count": 21,
     "metadata": {},
     "output_type": "execute_result"
    },
    {
     "data": {
      "image/png": "[encoded data removed]",
      "text/plain": [
       "<Figure size 432x288 with 2 Axes>"
      ]
     },
     "metadata": {
      "needs_background": "light"
     },
     "output_type": "display_data"
    }
   ],
   "source": [
    "from sklearn.metrics import plot_confusion_matrix\n",
    "plot_confusion_matrix(ppn,x_test_std,y_test)"
   ]
  },
  {
   "cell_type": "code",
   "execution_count": 22,
   "metadata": {},
   "outputs": [],
   "source": [
    "from sklearn.linear_model import Perceptron\n",
    "from sklearn.linear_model import LogisticRegression\n",
    "from sklearn.svm import SVC\n",
    "from sklearn.neighbors import KNeighborsClassifier\n",
    "from sklearn.naive_bayes import GaussianNB\n",
    "from sklearn.tree import DecisionTreeClassifier\n",
    "from sklearn.ensemble import RandomForestClassifier\n",
    "clf1=Perceptron(eta0=1)\n",
    "clf2=LogisticRegression(penalty='l2',C=10)\n",
    "clf3=SVC(C=100,kernel='rbf') # kernel='linear'\n",
    "clf4=KNeighborsClassifier(n_neighbors=3) # 3-NN\n",
    "clf5=GaussianNB()\n",
    "clf6=DecisionTreeClassifier(max_depth=5)\n",
    "clf7=RandomForestClassifier(max_depth=5)"
   ]
  },
  {
   "cell_type": "code",
   "execution_count": 23,
   "metadata": {},
   "outputs": [
    {
     "name": "stdout",
     "output_type": "stream",
     "text": [
      "{'prec': 64.0, 'LR': 68.0, 'SVM': 68.0, 'KNN': 54.0, 'GNB': 64.0, 'DT': 62.0, 'RF': 72.0}\n",
      "{'prec': 2.9, 'LR': 195.6, 'SVM': 2.1, 'KNN': 98.9, 'GNB': 0.0, 'DT': 18.5, 'RF': 168.6}\n"
     ]
    }
   ],
   "source": [
    "clf=[clf1,clf2,clf3,clf4,clf5,clf6,clf7]\n",
    "clf_names=['prec','LR','SVM','KNN','GNB','DT','RF']\n",
    "test={}\n",
    "T={}\n",
    "import time\n",
    "for model,name in zip(clf,clf_names):\n",
    "  st=time.time()\n",
    "  model.fit(x_train_std,y_train)\n",
    "  y_pred=model.predict(x_test_std)\n",
    "  et=time.time()\n",
    "  acc=accuracy_score(y_test,y_pred)\n",
    "  test[name]=np.round(acc*100,decimals=1)\n",
    "  T[name]=np.round((et-st)*1000,decimals=1) # ms\n",
    "print(test)\n",
    "print(T)"
   ]
  },
  {
   "cell_type": "code",
   "execution_count": 25,
   "metadata": {},
   "outputs": [
    {
     "name": "stdout",
     "output_type": "stream",
     "text": [
      "dict_keys(['prec', 'LR', 'SVM', 'KNN', 'GNB', 'DT', 'RF'])\n",
      "dict_values([64.0, 68.0, 68.0, 54.0, 64.0, 62.0, 72.0])\n"
     ]
    },
    {
     "data": {
      "text/plain": [
       "Text(0.5, 1.0, 'Performance comparision')"
      ]
     },
     "execution_count": 25,
     "metadata": {},
     "output_type": "execute_result"
    },
    {
     "data": {
      "image/png": "[encoded data removed]",
      "text/plain": [
       "<Figure size 432x288 with 1 Axes>"
      ]
     },
     "metadata": {
      "needs_background": "light"
     },
     "output_type": "display_data"
    }
   ],
   "source": [
    "print(test.keys())\n",
    "print(test.values())\n",
    "pt.bar(test.keys(),test.values(),color='g',edgecolor='r')\n",
    "pt.title('Performance comparision')"
   ]
  },
  {
   "cell_type": "code",
   "execution_count": null,
   "metadata": {},
   "outputs": [],
   "source": []
  }
 ],
 "metadata": {
  "kernelspec": {
   "display_name": "Python 3",
   "language": "python",
   "name": "python3"
  },
  "language_info": {
   "codemirror_mode": {
    "name": "ipython",
    "version": 3
   },
   "file_extension": ".py",
   "mimetype": "text/x-python",
   "name": "python",
   "nbconvert_exporter": "python",
   "pygments_lexer": "ipython3",
   "version": "3.7.3"
  }
 },
 "nbformat": 4,
 "nbformat_minor": 2
}
